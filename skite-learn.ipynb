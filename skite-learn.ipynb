{
 "cells": [
  {
   "cell_type": "code",
   "execution_count": 1,
   "metadata": {},
   "outputs": [],
   "source": [
    "import random\n",
    "\n",
    "class name:\n",
    "    nagative = \"Nagative\"\n",
    "    normal = \"Normall\"\n",
    "    positive = \"Positive\"\n",
    "    \n",
    "class REVIEW:\n",
    "    def __init__(self, massage, over_all):\n",
    "        self.massage = massage\n",
    "        self.over_all = over_all\n",
    "        self.n_p = self.po_no_na()\n",
    "    \n",
    "    def po_no_na(self):\n",
    "        if self.over_all <= 2:\n",
    "            return name.nagative\n",
    "        elif self.over_all == 3:\n",
    "            return name.normal\n",
    "        else:\n",
    "            return name.positive\n",
    "\n",
    "class reviews_continer():\n",
    "    def __init__(self, reviews):\n",
    "        self.reviews = reviews\n",
    "    def massages(self):\n",
    "        return [x.massage for x in self.reviews]\n",
    "    def n_ps(self):\n",
    "        return [y.n_p for y in self.reviews]\n",
    "    def get_n_P(self):\n",
    "        negative = list(filter(lambda x: x.n_p == name.nagative, self.reviews))\n",
    "        positive = list(filter(lambda x: x.n_p == name.positive, self.reviews))\n",
    "        positive_srunk = positive[:len(negative)]\n",
    "        self.reviews = negative + positive_srunk\n",
    "        random.shuffle(self.reviews)\n",
    "    "
   ]
  },
  {
   "cell_type": "code",
   "execution_count": 2,
   "metadata": {},
   "outputs": [],
   "source": [
    "import json\n",
    "\n",
    "reviews = []\n",
    "\n",
    "with open(\"/Users/tadiostilahun/visoal studio/Books_small_10000.txt\") as f:\n",
    "    for line in f:\n",
    "        review = json.loads(line)\n",
    "\n",
    "        reviews.append(REVIEW(review[\"reviewText\"], review[\"overall\"]))"
   ]
  },
  {
   "cell_type": "code",
   "execution_count": 3,
   "metadata": {},
   "outputs": [],
   "source": [
    "from sklearn.model_selection import train_test_split\n",
    "\n",
    "train, test = train_test_split(reviews, train_size= 0.33, random_state=42)\n",
    "\n",
    "train_continer = reviews_continer(train)\n",
    "test_continer = reviews_continer(test)"
   ]
  },
  {
   "cell_type": "code",
   "execution_count": 4,
   "metadata": {},
   "outputs": [
    {
     "data": {
      "text/plain": [
       "425"
      ]
     },
     "execution_count": 4,
     "metadata": {},
     "output_type": "execute_result"
    }
   ],
   "source": [
    "train_continer.get_n_P()\n",
    "\n",
    "train_x = train_continer.massages()\n",
    "train_y = train_continer.n_ps()\n",
    "\n",
    "test_continer.get_n_P()\n",
    "test_x = test_continer.massages()\n",
    "test_y = test_continer.n_ps()\n",
    "\n",
    "test_y.count(name.positive)"
   ]
  },
  {
   "cell_type": "code",
   "execution_count": 5,
   "metadata": {},
   "outputs": [],
   "source": [
    "from sklearn.feature_extraction.text import CountVectorizer\n",
    "\n",
    "vecoraizer = CountVectorizer()\n",
    "\n",
    "train_x_vector = vecoraizer.fit_transform(train_x)\n",
    "test_x_vector = vecoraizer.transform(test_x)\n"
   ]
  },
  {
   "cell_type": "code",
   "execution_count": 6,
   "metadata": {},
   "outputs": [
    {
     "name": "stdout",
     "output_type": "stream",
     "text": [
      "I give it a 2 stars at it lacks drama and confrontations, etc.. It was a little predictable, which I don't fancy at all.  Personally, it was a good story...\n",
      "Nagative\n"
     ]
    },
    {
     "data": {
      "text/plain": [
       "array(['Nagative'], dtype='<U8')"
      ]
     },
     "execution_count": 6,
     "metadata": {},
     "output_type": "execute_result"
    }
   ],
   "source": [
    "from sklearn import svm\n",
    "\n",
    "clf_svc = svm.SVC(kernel= \"linear\")\n",
    "clf_svc.fit(train_x_vector, train_y)\n",
    "\n",
    "print(test_x[67])\n",
    "print(test_y[67])\n",
    "clf_svc.predict(test_x_vector[67])"
   ]
  },
  {
   "cell_type": "code",
   "execution_count": 7,
   "metadata": {},
   "outputs": [
    {
     "name": "stdout",
     "output_type": "stream",
     "text": [
      "I have to admit that I purchased this book thinking it to be a much different type of book.  This isn't my normal type of story to read but yet once I started reading it I couldn't put it down.  It I  fair to say that I lost some sleep because of the quality of writing and the intrigue of the story line.  I highly recommend this book and can't wait for season two to become available.\n",
      "Positive\n"
     ]
    },
    {
     "data": {
      "text/plain": [
       "array(['Nagative'], dtype='<U8')"
      ]
     },
     "execution_count": 7,
     "metadata": {},
     "output_type": "execute_result"
    }
   ],
   "source": [
    "from sklearn.tree import DecisionTreeClassifier\n",
    "\n",
    "clf_dec = DecisionTreeClassifier()\n",
    "clf_dec.fit(train_x_vector, train_y)\n",
    "\n",
    "print(test_x[59])\n",
    "print(test_y[59])\n",
    "clf_dec.predict(test_x_vector[59])"
   ]
  },
  {
   "cell_type": "code",
   "execution_count": 8,
   "metadata": {},
   "outputs": [
    {
     "data": {
      "text/plain": [
       "'from sklearn.naive_bayes import GaussianNB\\n\\nclf_gau = GaussianNB()\\nclf_gau.fit(train_x_vector, train_y)\\n\\nprint(test_x[59])\\nprint(test_y[59])\\nclf_gau.predict(test_x_vector[59])'"
      ]
     },
     "execution_count": 8,
     "metadata": {},
     "output_type": "execute_result"
    }
   ],
   "source": [
    "'''from sklearn.naive_bayes import GaussianNB\n",
    "\n",
    "clf_gau = GaussianNB()\n",
    "clf_gau.fit(train_x_vector, train_y)\n",
    "\n",
    "print(test_x[59])\n",
    "print(test_y[59])\n",
    "clf_gau.predict(test_x_vector[59])'''"
   ]
  },
  {
   "cell_type": "code",
   "execution_count": 9,
   "metadata": {},
   "outputs": [
    {
     "name": "stdout",
     "output_type": "stream",
     "text": [
      "I have to admit that I purchased this book thinking it to be a much different type of book.  This isn't my normal type of story to read but yet once I started reading it I couldn't put it down.  It I  fair to say that I lost some sleep because of the quality of writing and the intrigue of the story line.  I highly recommend this book and can't wait for season two to become available.\n",
      "Positive\n"
     ]
    },
    {
     "data": {
      "text/plain": [
       "array(['Positive'], dtype='<U8')"
      ]
     },
     "execution_count": 9,
     "metadata": {},
     "output_type": "execute_result"
    }
   ],
   "source": [
    "from sklearn.linear_model import LogisticRegression\n",
    "\n",
    "clf_log = LogisticRegression()\n",
    "clf_log.fit(train_x_vector, train_y)\n",
    "\n",
    "print(test_x[59])\n",
    "print(test_y[59])\n",
    "clf_log.predict(test_x_vector[59])"
   ]
  },
  {
   "cell_type": "code",
   "execution_count": 10,
   "metadata": {},
   "outputs": [
    {
     "name": "stdout",
     "output_type": "stream",
     "text": [
      "0.7517647058823529\n",
      "0.66\n",
      "0.7929411764705883\n"
     ]
    }
   ],
   "source": [
    "print(clf_svc.score(test_x_vector, test_y))\n",
    "print(clf_dec.score(test_x_vector, test_y))\n",
    "print(clf_log.score(test_x_vector, test_y))"
   ]
  },
  {
   "cell_type": "code",
   "execution_count": 11,
   "metadata": {},
   "outputs": [
    {
     "name": "stderr",
     "output_type": "stream",
     "text": [
      "/Users/tadiostilahun/visoal studio/ml_enviroment/lib/python3.12/site-packages/sklearn/metrics/_classification.py:1531: UndefinedMetricWarning: F-score is ill-defined and being set to 0.0 in labels with no true nor predicted samples. Use `zero_division` parameter to control this behavior.\n",
      "  _warn_prf(average, modifier, f\"{metric.capitalize()} is\", len(result))\n"
     ]
    },
    {
     "data": {
      "text/plain": [
       "array([0.79582367, 0.        , 0.78997613])"
      ]
     },
     "execution_count": 11,
     "metadata": {},
     "output_type": "execute_result"
    }
   ],
   "source": [
    "from sklearn.metrics import f1_score\n",
    "\n",
    "f1_score(test_y, clf_log.predict(test_x_vector), average=None, labels= [name.nagative, name.normal, name.positive])"
   ]
  },
  {
   "cell_type": "code",
   "execution_count": 12,
   "metadata": {},
   "outputs": [
    {
     "data": {
      "text/plain": [
       "array(['Nagative', 'Nagative', 'Nagative'], dtype='<U8')"
      ]
     },
     "execution_count": 12,
     "metadata": {},
     "output_type": "execute_result"
    }
   ],
   "source": [
    "test_set = ['fuck you bich', \"this book is for me\", 'i did not liked it']\n",
    "new_data = vecoraizer.transform(test_set)\n",
    "clf_svc.predict(new_data)"
   ]
  },
  {
   "cell_type": "code",
   "execution_count": null,
   "metadata": {},
   "outputs": [],
   "source": []
  }
 ],
 "metadata": {
  "kernelspec": {
   "display_name": "ml_enviroment",
   "language": "python",
   "name": "python3"
  },
  "language_info": {
   "codemirror_mode": {
    "name": "ipython",
    "version": 3
   },
   "file_extension": ".py",
   "mimetype": "text/x-python",
   "name": "python",
   "nbconvert_exporter": "python",
   "pygments_lexer": "ipython3",
   "version": "3.12.4"
  }
 },
 "nbformat": 4,
 "nbformat_minor": 2
}
